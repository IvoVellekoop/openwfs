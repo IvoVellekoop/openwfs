{
 "cells": [
  {
   "cell_type": "markdown",
   "id": "9149a329",
   "metadata": {},
   "source": [
    "# Example of how to control Zaber translation stages"
   ]
  },
  {
   "cell_type": "markdown",
   "id": "6957a2a0",
   "metadata": {},
   "source": [
    "Show how to control zaber stages:\n",
    "- an xy stage consisting of two linear Zaber stages placed orthogonal to eachother\n",
    "- a single linear Zaber stage"
   ]
  },
  {
   "cell_type": "code",
   "execution_count": null,
   "id": "93027225",
   "metadata": {},
   "outputs": [],
   "source": [
    "# import necessary functions/packages\n",
    "from openwfs.devices.stages import ZaberXYStage, ZaberLinearStage\n",
    "import astropy.units as u"
   ]
  },
  {
   "cell_type": "markdown",
   "id": "122521c7",
   "metadata": {},
   "source": [
    "If it is known to which ports the Zaber stages are connected, move to the next step, otherwise list all the ports to see which devices are connected to which port."
   ]
  },
  {
   "cell_type": "code",
   "execution_count": 2,
   "id": "f8949e90",
   "metadata": {},
   "outputs": [
    {
     "name": "stdout",
     "output_type": "stream",
     "text": [
      "Port: COM3\n",
      "  Protocol: binary\n",
      "    Device 0: Device 1 SN: 56468 (T-LS13) -> Connection 4 (Binary Serial port: COM3)\n",
      "Port: COM4\n",
      "  Protocol: binary\n",
      "    Device 0: Device 1 SN: 39787 (T-LS13) -> Connection 6 (Binary Serial port: COM4)\n",
      "    Device 1: Device 2 SN: 46472 (T-LSM050A) -> Connection 6 (Binary Serial port: COM4)\n"
     ]
    }
   ],
   "source": [
    "devices = ZaberLinearStage.list_all_devices()"
   ]
  },
  {
   "cell_type": "markdown",
   "id": "6823b1f8",
   "metadata": {},
   "source": [
    "After determining the COM port, the device number (if multiple devices share the same port), and the communication protocol (ASCII or binary), you can create the Zaber stage object."
   ]
  },
  {
   "cell_type": "code",
   "execution_count": 3,
   "id": "4dbae98b",
   "metadata": {},
   "outputs": [],
   "source": [
    "stage_xy = ZaberXYStage(port_x=\"COM4\", port_y=\"COM3\", device_number_x=0, device_number_y=0, protocol=\"binary\")\n",
    "stage_linear = ZaberLinearStage(port=\"COM4\", device_number=1, protocol=\"binary\")"
   ]
  },
  {
   "cell_type": "markdown",
   "id": "bb2780b2",
   "metadata": {},
   "source": [
    "Set the x- and y-stage to the home position (x,y = 0,0, unless 'home' is defined differently for the specific stage), followed by setting x to 11109.623 um and y to 933 um."
   ]
  },
  {
   "cell_type": "code",
   "execution_count": 4,
   "id": "2d1e691a",
   "metadata": {},
   "outputs": [],
   "source": [
    "stage_xy.home()\n",
    "stage_xy.x = 11.109623 * u.mm\n",
    "stage_xy.y = 933 * u.um"
   ]
  },
  {
   "cell_type": "markdown",
   "id": "fe3eff4e",
   "metadata": {},
   "source": [
    "Set the linear stage to the home position followed by setting it to 49645 um: "
   ]
  },
  {
   "cell_type": "code",
   "execution_count": 5,
   "id": "53ca020b",
   "metadata": {},
   "outputs": [],
   "source": [
    "stage_linear.home()\n",
    "stage_linear.x = 49.645 * u.mm"
   ]
  },
  {
   "cell_type": "markdown",
   "id": "1cf08ad9",
   "metadata": {},
   "source": [
    "Find the current position of all stages:"
   ]
  },
  {
   "cell_type": "code",
   "execution_count": 6,
   "id": "3061fdf3",
   "metadata": {},
   "outputs": [
    {
     "name": "stdout",
     "output_type": "stream",
     "text": [
      "horizontal stage position = 11109.622656249998 um\n",
      "vertical stage position = 932.9539062499999 um\n",
      "linear stage position = 49645.014375000006 um\n"
     ]
    }
   ],
   "source": [
    "print(\"horizontal stage position =\", stage_xy.x)\n",
    "print(\"vertical stage position =\", stage_xy.y)\n",
    "print(\"linear stage position =\", stage_linear.x)"
   ]
  },
  {
   "cell_type": "markdown",
   "id": "e75b2b9d",
   "metadata": {},
   "source": [
    "❗**Note:**  The stage can only move in integer multiples of its step size, so the actual position may differ slightly from the value you specify."
   ]
  },
  {
   "cell_type": "markdown",
   "id": "cb9cbf07",
   "metadata": {},
   "source": [
    "Delete stages at end of experiment:"
   ]
  },
  {
   "cell_type": "code",
   "execution_count": 7,
   "id": "163e2050",
   "metadata": {},
   "outputs": [],
   "source": [
    "# delete objects to close connections at end of experiment\n",
    "del stage_xy\n",
    "del stage_linear"
   ]
  }
 ],
 "metadata": {
  "kernelspec": {
   "display_name": ".venv (3.11.9)",
   "language": "python",
   "name": "python3"
  },
  "language_info": {
   "codemirror_mode": {
    "name": "ipython",
    "version": 3
   },
   "file_extension": ".py",
   "mimetype": "text/x-python",
   "name": "python",
   "nbconvert_exporter": "python",
   "pygments_lexer": "ipython3",
   "version": "3.11.9"
  }
 },
 "nbformat": 4,
 "nbformat_minor": 5
}
