{
 "cells": [
  {
   "cell_type": "markdown",
   "id": "979fa3cb",
   "metadata": {},
   "source": [
    "# Microscope simulation tutorial\n"
   ]
  },
  {
   "cell_type": "markdown",
   "id": "6477a647",
   "metadata": {},
   "source": [
    "Welcome to the microscope simulation tutorial. In this tutorial we will show the basics of the simulated microscope"
   ]
  },
  {
   "cell_type": "code",
   "execution_count": 1,
   "id": "b211bdf0",
   "metadata": {
    "ExecuteTime": {
     "end_time": "2024-02-16T10:28:24.265337400Z",
     "start_time": "2024-02-16T10:28:21.838214100Z"
    }
   },
   "source": [
    "import numpy as np\n",
    "import set_path\n",
    "from openwfs.simulation import Microscope, StaticSource, Camera\n",
    "from openwfs.plot_utilities import grab_and_show\n",
    "import astropy.units as u\n",
    "import matplotlib.pyplot as plt"
   ],
   "outputs": []
  },
  {
   "cell_type": "markdown",
   "id": "595cbad6",
   "metadata": {},
   "source": [
    "Let's start by showing how a simple image source works. TODO: needs fixing!"
   ]
  },
  {
   "cell_type": "code",
   "execution_count": 2,
   "id": "c9814fc2",
   "metadata": {
    "ExecuteTime": {
     "end_time": "2023-11-14T13:26:42.215321700Z",
     "start_time": "2023-11-14T13:26:41.551129300Z"
    }
   },
   "source": [
    "img_size_x = 150\n",
    "# Determines how wide the image is.\n",
    "\n",
    "img_size_y = 150\n",
    "# Determines how high the image is.\n",
    "\n",
    "img = np.maximum(np.random.randint(-10000, 10, (img_size_y, img_size_x), dtype=np.int16), 0)\n",
    "src = StaticSource(img, pixel_size = 50 * u.nm)\n",
    "\n",
    "plt.imshow(img)\n",
    "plt.colorbar()"
   ],
   "outputs": []
  },
  {
   "cell_type": "markdown",
   "id": "8e414b56",
   "metadata": {},
   "source": [
    "We now have an object that functions like a camera: when it is triggered and read, it produces an image"
   ]
  },
  {
   "cell_type": "markdown",
   "id": "fd777aec",
   "metadata": {},
   "source": [
    "We can imagine them as fluorescent beads in a medium\n",
    "\n",
    "Let's now make a microscope:"
   ]
  },
  {
   "cell_type": "code",
   "execution_count": 3,
   "id": "f6d379b8",
   "metadata": {
    "ExecuteTime": {
     "end_time": "2023-11-14T13:26:42.293473Z",
     "start_time": "2023-11-14T13:26:42.215321700Z"
    }
   },
   "source": [
    "### Parameters that can be altered\n",
    "\n",
    "\n",
    "magnification = 40\n",
    "# magnification from object plane to camera.\n",
    "\n",
    "numerical_aperture = 0.85\n",
    "# numerical aperture of the microscope objective\n",
    "\n",
    "wavelength = 532.8 * u.nm\n",
    "# wavelength of the light, different wavelengths are possible, units can be adjusted accordingly.\n",
    "\n",
    "pixel_size = 6.45 * u.um / np.sqrt(40)\n",
    "# Size of the pixels on the camera\n",
    "\n",
    "camera_resolution = (256, 256)\n",
    "# number of pixels on the camera\n",
    "\n",
    "p_limit = 10\n",
    "# Number of iterations. Influences how quick the 'animation' is complete.\n",
    "\n",
    "## Code\n",
    "\n",
    "mic = Microscope(\n",
    "    src,\n",
    "    magnification=magnification,\n",
    "    numerical_aperture=numerical_aperture,\n",
    "    wavelength=wavelength)\n",
    "\n",
    "\n",
    "cam = Camera(\n",
    "    mic,\n",
    "    analog_max=None,\n",
    "    shot_noise=True,\n",
    "    digital_max=255,\n",
    ")\n",
    "\n"
   ],
   "outputs": []
  },
  {
   "cell_type": "code",
   "execution_count": 4,
   "id": "db3ff103",
   "metadata": {
    "ExecuteTime": {
     "end_time": "2023-11-14T13:26:42.778664200Z",
     "start_time": "2023-11-14T13:26:42.230960Z"
    }
   },
   "source": [
    "grab_and_show(cam)"
   ],
   "outputs": []
  }
 ],
 "metadata": {
  "kernelspec": {
   "display_name": "Python 3 (ipykernel)",
   "language": "python",
   "name": "python3"
  },
  "language_info": {
   "codemirror_mode": {
    "name": "ipython",
    "version": 3
   },
   "file_extension": ".py",
   "mimetype": "text/x-python",
   "name": "python",
   "nbconvert_exporter": "python",
   "pygments_lexer": "ipython3",
   "version": "3.11.7"
  }
 },
 "nbformat": 4,
 "nbformat_minor": 5
}
