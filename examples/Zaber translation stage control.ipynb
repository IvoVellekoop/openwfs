{
 "cells": [
  {
   "cell_type": "markdown",
   "id": "9149a329",
   "metadata": {},
   "source": [
    "# Example of how to control Zaber translation stages"
   ]
  },
  {
   "cell_type": "markdown",
   "id": "6957a2a0",
   "metadata": {},
   "source": [
    "Show how to control zaber stages:\n",
    "- an xy stage consisting of two linear zaber stages placed orthogonal to eachother\n",
    "- a single linear zaber stage"
   ]
  },
  {
   "cell_type": "code",
   "execution_count": 1,
   "id": "93027225",
   "metadata": {},
   "outputs": [],
   "source": [
    "# import necessary functions/pacakges\n",
    "from openwfs.devices.stages import ZaberXYStage, ZaberLinearStage\n",
    "import astropy.units as u"
   ]
  },
  {
   "cell_type": "markdown",
   "id": "122521c7",
   "metadata": {},
   "source": [
    "If it is known to which ports the zaber stages are connected, move to the next step, otherwise list all the ports to see which devices are connected to which port."
   ]
  },
  {
   "cell_type": "code",
   "execution_count": 9,
   "id": "f8949e90",
   "metadata": {},
   "outputs": [
    {
     "name": "stdout",
     "output_type": "stream",
     "text": [
      "Port: COM3\n",
      "  Protocol: binary\n",
      "    Device 0: Device 1 SN: 56468 (T-LS13) -> Connection 12 (Binary Serial port: COM3)\n",
      "Port: COM4\n",
      "  Protocol: binary\n",
      "    Device 0: Device 1 SN: 39787 (T-LS13) -> Connection 14 (Binary Serial port: COM4)\n",
      "    Device 1: Device 2 SN: 46472 (T-LSM050A) -> Connection 14 (Binary Serial port: COM4)\n"
     ]
    }
   ],
   "source": [
    "devices = ZaberLinearStage.list_all_devices()"
   ]
  },
  {
   "cell_type": "markdown",
   "id": "6823b1f8",
   "metadata": {},
   "source": [
    "Once the COM port to which the Zaber stage is connected is known and, if multiple devices are connected to the COM port which device number corresponds to the desired stage, and the protocol (ascii or binary) is used for communication, we can create the Zaber stage object."
   ]
  },
  {
   "cell_type": "code",
   "execution_count": 23,
   "id": "4dbae98b",
   "metadata": {},
   "outputs": [],
   "source": [
    "stage_xy = ZaberXYStage(port_x=\"COM4\", port_y=\"COM3\", device_x=0, device_y=0, protocol=\"binary\")\n",
    "stage_linear = ZaberLinearStage(port=\"COM4\", device=1, protocol=\"binary\")"
   ]
  },
  {
   "cell_type": "code",
   "execution_count": 13,
   "id": "f7e1fecb",
   "metadata": {},
   "outputs": [],
   "source": [
    "stage_linear = ZaberLinearStage(port=\"COM4\", device=1, protocol=\"binary\")"
   ]
  },
  {
   "cell_type": "markdown",
   "id": "bb2780b2",
   "metadata": {},
   "source": [
    "Set the x- and y-stage to the home position (x,y = 0,0), followed by setting x to 11109.623 um and y to 933 um."
   ]
  },
  {
   "cell_type": "code",
   "execution_count": 4,
   "id": "2d1e691a",
   "metadata": {},
   "outputs": [],
   "source": [
    "stage_xy.home()\n",
    "stage_xy.x = 11109.623\n",
    "stage_xy.y = 933"
   ]
  },
  {
   "cell_type": "markdown",
   "id": "fe3eff4e",
   "metadata": {},
   "source": [
    "Set the linear stage to the home position followed by setting it to 49645 um: "
   ]
  },
  {
   "cell_type": "code",
   "execution_count": 26,
   "id": "53ca020b",
   "metadata": {},
   "outputs": [
    {
     "ename": "ConnectionClosedException",
     "evalue": "ConnectionClosedException: Connection has been closed",
     "output_type": "error",
     "traceback": [
      "\u001b[31m---------------------------------------------------------------------------\u001b[39m",
      "\u001b[31mConnectionClosedException\u001b[39m                 Traceback (most recent call last)",
      "\u001b[36mCell\u001b[39m\u001b[36m \u001b[39m\u001b[32mIn[26]\u001b[39m\u001b[32m, line 1\u001b[39m\n\u001b[32m----> \u001b[39m\u001b[32m1\u001b[39m \u001b[43mstage_linear\u001b[49m\u001b[43m.\u001b[49m\u001b[43mhome\u001b[49m\u001b[43m(\u001b[49m\u001b[43m)\u001b[49m\n\u001b[32m      2\u001b[39m stage_linear.x = \u001b[32m100\u001b[39m  \u001b[38;5;66;03m#49645\u001b[39;00m\n",
      "\u001b[36mFile \u001b[39m\u001b[32m~\\OneDrive - University of Twente\\LabPC\\openwfs\\openwfs\\devices\\stages.py:302\u001b[39m, in \u001b[36mZaberLinearStage.home\u001b[39m\u001b[34m(self)\u001b[39m\n\u001b[32m    301\u001b[39m \u001b[38;5;28;01mdef\u001b[39;00m\u001b[38;5;250m \u001b[39m\u001b[34mhome\u001b[39m(\u001b[38;5;28mself\u001b[39m):\n\u001b[32m--> \u001b[39m\u001b[32m302\u001b[39m     \u001b[38;5;28;43mself\u001b[39;49m\u001b[43m.\u001b[49m\u001b[43mstage\u001b[49m\u001b[43m.\u001b[49m\u001b[43mhome\u001b[49m\u001b[43m(\u001b[49m\u001b[43m)\u001b[49m\n\u001b[32m    303\u001b[39m     \u001b[38;5;28;01mreturn\u001b[39;00m \u001b[38;5;28mself\u001b[39m.x\n",
      "\u001b[36mFile \u001b[39m\u001b[32mc:\\Users\\ABAB\\OneDrive - University of Twente\\LabPC\\.venv\\Lib\\site-packages\\zaber_motion\\binary\\device.py:338\u001b[39m, in \u001b[36mDevice.home\u001b[39m\u001b[34m(self, unit, timeout)\u001b[39m\n\u001b[32m    322\u001b[39m \u001b[38;5;250m\u001b[39m\u001b[33;03m\"\"\"\u001b[39;00m\n\u001b[32m    323\u001b[39m \u001b[33;03mHomes device. Device returns to its homing position.\u001b[39;00m\n\u001b[32m    324\u001b[39m \n\u001b[32m   (...)\u001b[39m\u001b[32m    330\u001b[39m \u001b[33;03m    Current position that has been converted to the provided unit.\u001b[39;00m\n\u001b[32m    331\u001b[39m \u001b[33;03m\"\"\"\u001b[39;00m\n\u001b[32m    332\u001b[39m request = dto.BinaryDeviceHomeRequest(\n\u001b[32m    333\u001b[39m     interface_id=\u001b[38;5;28mself\u001b[39m.connection.interface_id,\n\u001b[32m    334\u001b[39m     device=\u001b[38;5;28mself\u001b[39m.device_address,\n\u001b[32m    335\u001b[39m     unit=unit,\n\u001b[32m    336\u001b[39m     timeout=timeout,\n\u001b[32m    337\u001b[39m )\n\u001b[32m--> \u001b[39m\u001b[32m338\u001b[39m response = \u001b[43mcall\u001b[49m\u001b[43m(\u001b[49m\n\u001b[32m    339\u001b[39m \u001b[43m    \u001b[49m\u001b[33;43m\"\u001b[39;49m\u001b[33;43mbinary/device/home\u001b[39;49m\u001b[33;43m\"\u001b[39;49m\u001b[43m,\u001b[49m\n\u001b[32m    340\u001b[39m \u001b[43m    \u001b[49m\u001b[43mrequest\u001b[49m\u001b[43m,\u001b[49m\n\u001b[32m    341\u001b[39m \u001b[43m    \u001b[49m\u001b[43mdto\u001b[49m\u001b[43m.\u001b[49m\u001b[43mDoubleResponse\u001b[49m\u001b[43m.\u001b[49m\u001b[43mfrom_binary\u001b[49m\u001b[43m)\u001b[49m\n\u001b[32m    342\u001b[39m \u001b[38;5;28;01mreturn\u001b[39;00m response.value\n",
      "\u001b[36mFile \u001b[39m\u001b[32mc:\\Users\\ABAB\\OneDrive - University of Twente\\LabPC\\.venv\\Lib\\site-packages\\zaber_motion\\call.py:69\u001b[39m, in \u001b[36mcall\u001b[39m\u001b[34m(request, data, make_response)\u001b[39m\n\u001b[32m     65\u001b[39m     \u001b[38;5;28;01mraise\u001b[39;00m \u001b[38;5;167;01mRuntimeError\u001b[39;00m(\u001b[33mf\u001b[39m\u001b[33m\"\u001b[39m\u001b[33mInvalid result code: \u001b[39m\u001b[38;5;132;01m{\u001b[39;00mresult\u001b[38;5;132;01m}\u001b[39;00m\u001b[33m\"\u001b[39m)\n\u001b[32m     67\u001b[39m response_buffers = promise.get()\n\u001b[32m---> \u001b[39m\u001b[32m69\u001b[39m \u001b[38;5;28;01mreturn\u001b[39;00m \u001b[43mprocess_response\u001b[49m\u001b[43m(\u001b[49m\u001b[43mresponse_buffers\u001b[49m\u001b[43m,\u001b[49m\u001b[43m \u001b[49m\u001b[43mmake_response\u001b[49m\u001b[43m)\u001b[49m\n",
      "\u001b[36mFile \u001b[39m\u001b[32mc:\\Users\\ABAB\\OneDrive - University of Twente\\LabPC\\.venv\\Lib\\site-packages\\zaber_motion\\call.py:189\u001b[39m, in \u001b[36mprocess_response\u001b[39m\u001b[34m(response_buffers, make_response)\u001b[39m\n\u001b[32m    187\u001b[39m     \u001b[38;5;28;01mif\u001b[39;00m \u001b[38;5;28mlen\u001b[39m(response_buffers) > \u001b[32m1\u001b[39m:\n\u001b[32m    188\u001b[39m         \u001b[38;5;28;01mraise\u001b[39;00m convert_exception(response_dto.error_type, response_dto.error_message, response_buffers[\u001b[32m1\u001b[39m])\n\u001b[32m--> \u001b[39m\u001b[32m189\u001b[39m     \u001b[38;5;28;01mraise\u001b[39;00m convert_exception(response_dto.error_type, response_dto.error_message)\n\u001b[32m    191\u001b[39m \u001b[38;5;28;01mif\u001b[39;00m \u001b[38;5;28mlen\u001b[39m(response_buffers) > \u001b[32m1\u001b[39m:\n\u001b[32m    192\u001b[39m     \u001b[38;5;28;01mif\u001b[39;00m make_response \u001b[38;5;129;01mis\u001b[39;00m \u001b[38;5;28;01mNone\u001b[39;00m:\n",
      "\u001b[31mConnectionClosedException\u001b[39m: ConnectionClosedException: Connection has been closed"
     ]
    }
   ],
   "source": [
    "stage_linear.home()\n",
    "stage_linear.x = 100  #49645"
   ]
  },
  {
   "cell_type": "markdown",
   "id": "1cf08ad9",
   "metadata": {},
   "source": [
    "Find the current position of all stages:"
   ]
  },
  {
   "cell_type": "code",
   "execution_count": 6,
   "id": "3061fdf3",
   "metadata": {},
   "outputs": [
    {
     "name": "stdout",
     "output_type": "stream",
     "text": [
      "horizontal stage position = 11109.622656249998 um\n",
      "vertical stage position = 932.9539062499999 um\n",
      "linear stage position = 49645.014375000006 um\n"
     ]
    }
   ],
   "source": [
    "print(\"horizontal stage position =\", stage_xy.x)\n",
    "print(\"vertical stage position =\", stage_xy.y)\n",
    "print(\"linear stage position =\", stage_linear.x)"
   ]
  },
  {
   "cell_type": "markdown",
   "id": "e75b2b9d",
   "metadata": {},
   "source": [
    "❗**Note:**  The stage can only move in integer multiples of its step size, so the actual position may differ slightly from the value you specify."
   ]
  },
  {
   "cell_type": "markdown",
   "id": "456c815b",
   "metadata": {},
   "source": [
    "Close serial ports after experiments are done:"
   ]
  },
  {
   "cell_type": "code",
   "execution_count": 25,
   "id": "ed2dbf3f",
   "metadata": {},
   "outputs": [],
   "source": [
    "stage_xy.close()"
   ]
  },
  {
   "cell_type": "code",
   "execution_count": 18,
   "id": "2c75ffd3",
   "metadata": {},
   "outputs": [],
   "source": [
    "stage_xy.close()\n",
    "stage_linear.close()"
   ]
  }
 ],
 "metadata": {
  "kernelspec": {
   "display_name": ".venv (3.11.9)",
   "language": "python",
   "name": "python3"
  },
  "language_info": {
   "codemirror_mode": {
    "name": "ipython",
    "version": 3
   },
   "file_extension": ".py",
   "mimetype": "text/x-python",
   "name": "python",
   "nbconvert_exporter": "python",
   "pygments_lexer": "ipython3",
   "version": "3.11.9"
  }
 },
 "nbformat": 4,
 "nbformat_minor": 5
}
